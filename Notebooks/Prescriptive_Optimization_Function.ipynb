{
  "nbformat": 4,
  "nbformat_minor": 0,
  "metadata": {
    "colab": {
      "provenance": []
    },
    "kernelspec": {
      "name": "python3",
      "display_name": "Python 3"
    },
    "language_info": {
      "name": "python"
    }
  },
  "cells": [
    {
      "cell_type": "code",
      "execution_count": 3,
      "metadata": {
        "id": "0KICqefRh1e_"
      },
      "outputs": [],
      "source": [
        "import numpy\n",
        "# define the function blocks\n",
        "def obj_fun(q):\n",
        "  for i in range(len(q)):\n",
        "    q[i]=round(q[i])\n",
        "  min_cost=sum(numpy.array(q)*numpy. array([1.33,5.59,1.6,0.47,0.33,0.58,0.5,0.47,0.83,1.14,1.23,1.19,0.1,1.18,1,1.36,0.5,0.45]))\n",
        "\n",
        "  if sum(q)<10:\n",
        "      return 9999\n",
        "  return min_cost\n"
      ]
    },
    {
      "cell_type": "code",
      "source": [],
      "metadata": {
        "id": "8PgAxSRdiQQ7"
      },
      "execution_count": null,
      "outputs": []
    }
  ]
}